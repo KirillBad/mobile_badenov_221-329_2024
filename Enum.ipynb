{
 "cells": [
  {
   "cell_type": "markdown",
   "metadata": {},
   "source": [
    "# Перечисление (Enum)"
   ]
  },
  {
   "cell_type": "code",
   "execution_count": 2,
   "metadata": {
    "dotnet_interactive": {
     "language": "csharp"
    },
    "polyglot_notebook": {
     "kernelName": "csharp"
    },
    "vscode": {
     "languageId": "polyglot-notebook"
    }
   },
   "outputs": [
    {
     "name": "stdout",
     "output_type": "stream",
     "text": [
      "Todo\n",
      "Done\n",
      "2\n",
      "System.Int32\n",
      "Int32\n"
     ]
    }
   ],
   "source": [
    "enum TaskStatus { Todo, InProgress, Done, Closed }\n",
    "\n",
    "TaskStatus taskStatus;\n",
    "Console.WriteLine(taskStatus); // По умолчанию\n",
    "taskStatus = TaskStatus.Done;\n",
    "Console.WriteLine(taskStatus);\n",
    "Console.WriteLine(taskStatus.ToString(\"D\"));\n",
    "Console.WriteLine(Enum.GetUnderlyingType(taskStatus.GetType()));\n",
    "Console.WriteLine(taskStatus.GetTypeCode());\n",
    "\n",
    "// if (taskStatus == 2) ...\n",
    "// if (taskStatus == \"Done\") ...\n",
    "// if (taskStatus == TaskStatus.Done) ..."
   ]
  },
  {
   "cell_type": "code",
   "execution_count": 3,
   "metadata": {
    "dotnet_interactive": {
     "language": "csharp"
    },
    "polyglot_notebook": {
     "kernelName": "csharp"
    },
    "vscode": {
     "languageId": "polyglot-notebook"
    }
   },
   "outputs": [
    {
     "name": "stdout",
     "output_type": "stream",
     "text": [
      "RedBlue\n",
      "Byte\n",
      "10\n"
     ]
    }
   ],
   "source": [
    "enum MultiColor : byte\n",
    "{\n",
    "    Red     = 1, // 0b_0000_0001\n",
    "    Green   = 2, // 0b_0000_0010\n",
    "    Blue    = 4, // 0b_0000_0100\n",
    "    Black   = 8, // 0b_0000_1000\n",
    "    RedBlue = Red | Blue,\n",
    "    All     = Red | Green | Blue | Black\n",
    "}\n",
    "\n",
    "MultiColor multiColor;\n",
    "multiColor = MultiColor.Red;\n",
    "multiColor |= MultiColor.Blue;\n",
    "Console.WriteLine(multiColor);\n",
    "\n",
    "Console.WriteLine(multiColor.GetTypeCode());\n",
    "\n",
    "multiColor = MultiColor.All;\n",
    "multiColor ^= MultiColor.RedBlue;\n",
    "Console.WriteLine(multiColor);"
   ]
  },
  {
   "cell_type": "code",
   "execution_count": 4,
   "metadata": {
    "dotnet_interactive": {
     "language": "csharp"
    },
    "polyglot_notebook": {
     "kernelName": "csharp"
    },
    "vscode": {
     "languageId": "polyglot-notebook"
    }
   },
   "outputs": [
    {
     "name": "stdout",
     "output_type": "stream",
     "text": [
      "Это только Red = False\n",
      "Присутствует Red = True\n"
     ]
    }
   ],
   "source": [
    "multiColor = MultiColor.RedBlue;\n",
    "// Проверка на значение\n",
    "Console.WriteLine($\"Это только Red = {multiColor == MultiColor.Red}\");\n",
    "Console.WriteLine($\"Присутствует Red = {multiColor.HasFlag(MultiColor.Red)}\");\n"
   ]
  },
  {
   "cell_type": "code",
   "execution_count": 12,
   "metadata": {
    "dotnet_interactive": {
     "language": "csharp"
    },
    "polyglot_notebook": {
     "kernelName": "csharp"
    },
    "vscode": {
     "languageId": "polyglot-notebook"
    }
   },
   "outputs": [
    {
     "name": "stdout",
     "output_type": "stream",
     "text": [
      " 1 | 00000001 | Red\n",
      " 2 | 00000010 | Green\n",
      " 4 | 00000100 | Blue\n",
      " 5 | 00000101 | RedBlue\n",
      " 8 | 00001000 | Black\n",
      "15 | 00001111 | All\n"
     ]
    }
   ],
   "source": [
    "// Q: Как получить все значения перечислимого типа?\n",
    "\n",
    "foreach (var i in Enum.GetValues<MultiColor>())\n",
    "    Console.WriteLine($\"{i,2:D} | {(int)i:B8} | {i}\");"
   ]
  },
  {
   "cell_type": "code",
   "execution_count": 13,
   "metadata": {
    "dotnet_interactive": {
     "language": "csharp"
    },
    "polyglot_notebook": {
     "kernelName": "csharp"
    },
    "vscode": {
     "languageId": "polyglot-notebook"
    }
   },
   "outputs": [
    {
     "data": {
      "text/html": [
       "<span>Выходные</span>"
      ]
     },
     "metadata": {},
     "output_type": "display_data"
    }
   ],
   "source": [
    "enum ДеньНедели : byte\n",
    "{\n",
    "    Пн = 1 << 0,\n",
    "    Вт = 1 << 1,\n",
    "    Ср = 1 << 2,\n",
    "    Чт = 1 << 3,\n",
    "    Пт = 1 << 4,\n",
    "    Сб = 1 << 5,\n",
    "    Вс = 1 << 6,\n",
    "    Выходные = Сб | Вс\n",
    "}\n",
    "\n",
    "ДеньНедели деньНедели;\n",
    "деньНедели = ДеньНедели.Ср;\n",
    "деньНедели = ДеньНедели.Выходные;\n",
    "деньНедели"
   ]
  }
 ],
 "metadata": {
  "kernelspec": {
   "display_name": ".NET (C#)",
   "language": "C#",
   "name": ".net-csharp"
  },
  "language_info": {
   "name": "python"
  },
  "polyglot_notebook": {
   "kernelInfo": {
    "defaultKernelName": "csharp",
    "items": [
     {
      "aliases": [],
      "name": "csharp"
     }
    ]
   }
  }
 },
 "nbformat": 4,
 "nbformat_minor": 2
}
