{
 "cells": [
  {
   "cell_type": "markdown",
   "metadata": {},
   "source": [
    "# List (Список)\n",
    "\n",
    "// выравнивание по центру |:-:|\n",
    "\n",
    "|Массив|Список|\n",
    "|:-:|:-:|\n",
    "|фикс размер|динамический размер|\n",
    "|быстрее|удобнее|\n",
    "|эл-ты одного типа|разного типа|"
   ]
  },
  {
   "cell_type": "code",
   "execution_count": 5,
   "metadata": {
    "dotnet_interactive": {
     "language": "csharp"
    },
    "polyglot_notebook": {
     "kernelName": "csharp"
    }
   },
   "outputs": [],
   "source": [
    "// обычный список (редко используемый)\n",
    "ArrayList arrayList = new();\n",
    "arrayList.Add(3);\n",
    "arrayList.Add(\"jdf\");\n",
    "arrayList.Add(3.14);\n",
    "arrayList"
   ]
  },
  {
   "cell_type": "code",
   "execution_count": 6,
   "metadata": {
    "dotnet_interactive": {
     "language": "csharp"
    },
    "polyglot_notebook": {
     "kernelName": "csharp"
    }
   },
   "outputs": [],
   "source": [
    "// обычный список \n",
    "List<int> num = new();\n",
    "num.Add(123);\n",
    "num.Add(-1);\n",
    "num"
   ]
  },
  {
   "cell_type": "code",
   "execution_count": 7,
   "metadata": {
    "dotnet_interactive": {
     "language": "csharp"
    },
    "polyglot_notebook": {
     "kernelName": "csharp"
    }
   },
   "outputs": [],
   "source": [
    "var num = Enumerable.Range(5, 10).ToList<int>();\n",
    "num"
   ]
  },
  {
   "cell_type": "code",
   "execution_count": 8,
   "metadata": {
    "dotnet_interactive": {
     "language": "csharp"
    },
    "polyglot_notebook": {
     "kernelName": "csharp"
    }
   },
   "outputs": [],
   "source": [
    "//List<string> cities = new() {\"T\", \"Xnj-nj\", \"hfbdsf\", \"dfjkvbjas\"};\n",
    "//List<string> cities = new List<string>() {\"T\", \"Xnj-nj\", \"hfbdsf\", \"dfjkvbjas\"};\n",
    "\n",
    "//var cities = new List<string>() {\"T\", \"Xnj-nj\", \"hfbdsf\", \"dfjkvbjas\"};\n",
    "//var cities = \"T, Xnj-nj, hfbdsf, dfjkvbjas\".Split(\", \").ToList<string>();\n",
    "List<string> cities = [\"T\", \"Xnj-nj\", \"hfbdsf\", \"dfjkvbjas\"];\n",
    "\n",
    "Console.WriteLine(string.Concat(cities));\n",
    "Console.WriteLine(string.Join(\", \", cities));\n",
    "\n",
    "cities.Reverse();\n",
    "Console.WriteLine(string.Concat(cities));\n",
    "\n",
    "cities.RemoveAt(1);\n",
    "Console.WriteLine(string.Concat(cities));\n",
    "\n",
    "cities.AddRange(new string[] {\"солвыи\", \"автомилфдуа\"});\n",
    "Console.WriteLine(string.Join(\", \", cities));\n",
    "\n",
    "Console.WriteLine(cities.Contains(\"солвыи\"));"
   ]
  }
 ],
 "metadata": {
  "kernelspec": {
   "display_name": ".NET (C#)",
   "language": "C#",
   "name": ".net-csharp"
  },
  "polyglot_notebook": {
   "kernelInfo": {
    "defaultKernelName": "csharp",
    "items": [
     {
      "aliases": [],
      "languageName": "csharp",
      "name": "csharp"
     }
    ]
   }
  }
 },
 "nbformat": 4,
 "nbformat_minor": 2
}
