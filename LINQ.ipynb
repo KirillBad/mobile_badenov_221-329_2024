{
 "cells": [
  {
   "cell_type": "markdown",
   "metadata": {},
   "source": [
    "# LINQ"
   ]
  },
  {
   "cell_type": "code",
   "execution_count": 2,
   "metadata": {
    "vscode": {
     "languageId": "polyglot-notebook"
    }
   },
   "outputs": [
    {
     "name": "stdout",
     "output_type": "stream",
     "text": [
      "14 12 10\n"
     ]
    }
   ],
   "source": [
    "var numbers = Enumerable.Range(0, 10).ToArray();\n",
    "\n",
    "var q_numbers =\n",
    "    from i in numbers\n",
    "    where i > 4 && i < 8\n",
    "    orderby i descending\n",
    "    select i * 2;\n",
    "\n",
    "Console.WriteLine(String.Join(\" \", q_numbers));"
   ]
  },
  {
   "cell_type": "code",
   "execution_count": 3,
   "metadata": {
    "dotnet_interactive": {
     "language": "csharp"
    },
    "polyglot_notebook": {
     "kernelName": "csharp"
    },
    "vscode": {
     "languageId": "polyglot-notebook"
    }
   },
   "outputs": [
    {
     "name": "stdout",
     "output_type": "stream",
     "text": [
      "samara smolenks\n"
     ]
    }
   ],
   "source": [
    "var cities = new string[] { \"Moscow\", \"samara\", \"smolenks\", \"Tula\", \"Yalta\", \"Orel\", \"Yakutsk\"};\n",
    "\n",
    "var q_cities =\n",
    "    from city in cities\n",
    "    where city.ToUpper().StartsWith(\"S\")\n",
    "    select city;\n",
    "\n",
    "Console.WriteLine(String.Join(\" \", q_cities));\n"
   ]
  },
  {
   "cell_type": "code",
   "execution_count": 4,
   "metadata": {
    "vscode": {
     "languageId": "polyglot-notebook"
    }
   },
   "outputs": [
    {
     "data": {
      "text/html": [
       "<div class=\"dni-plaintext\"><pre>[ samara, smolenks ]</pre></div><style>\r\n",
       ".dni-code-hint {\r\n",
       "    font-style: italic;\r\n",
       "    overflow: hidden;\r\n",
       "    white-space: nowrap;\r\n",
       "}\r\n",
       ".dni-treeview {\r\n",
       "    white-space: nowrap;\r\n",
       "}\r\n",
       ".dni-treeview td {\r\n",
       "    vertical-align: top;\r\n",
       "    text-align: start;\r\n",
       "}\r\n",
       "details.dni-treeview {\r\n",
       "    padding-left: 1em;\r\n",
       "}\r\n",
       "table td {\r\n",
       "    text-align: start;\r\n",
       "}\r\n",
       "table tr { \r\n",
       "    vertical-align: top; \r\n",
       "    margin: 0em 0px;\r\n",
       "}\r\n",
       "table tr td pre \r\n",
       "{ \r\n",
       "    vertical-align: top !important; \r\n",
       "    margin: 0em 0px !important;\r\n",
       "} \r\n",
       "table th {\r\n",
       "    text-align: start;\r\n",
       "}\r\n",
       "</style>"
      ]
     },
     "metadata": {},
     "output_type": "display_data"
    }
   ],
   "source": [
    "var cities2 = cities.Where(i => i.ToUpper().StartsWith(\"S\")).Where(i => i.Length > 4).ToArray();\n",
    "cities2"
   ]
  },
  {
   "cell_type": "code",
   "execution_count": 6,
   "metadata": {
    "vscode": {
     "languageId": "polyglot-notebook"
    }
   },
   "outputs": [
    {
     "name": "stdout",
     "output_type": "stream",
     "text": [
      "city Moscow, city samara, city smolenks, city Tula, city Yalta, city Orel, city Yakutsk\n"
     ]
    }
   ],
   "source": [
    "var cities3 = cities.Select(i => $\"city {i}\").ToArray();\n",
    "Console.WriteLine(String.Join(\", \", cities3));"
   ]
  }
 ],
 "metadata": {
  "kernelspec": {
   "display_name": ".NET (C#)",
   "language": "C#",
   "name": ".net-csharp"
  },
  "language_info": {
   "name": "python"
  },
  "polyglot_notebook": {
   "kernelInfo": {
    "defaultKernelName": "csharp",
    "items": [
     {
      "aliases": [],
      "name": "csharp"
     }
    ]
   }
  }
 },
 "nbformat": 4,
 "nbformat_minor": 2
}
