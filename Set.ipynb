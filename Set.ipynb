{
 "cells": [
  {
   "cell_type": "markdown",
   "metadata": {},
   "source": [
    "# Множество (set)\n",
    "\n",
    "ТОлько уникальные эл-ты без дубликатов\n",
    "\n",
    "//HashSet - неупорядоченное множество\n",
    "//SortedSet - упорядоченное множество"
   ]
  },
  {
   "cell_type": "code",
   "execution_count": 10,
   "metadata": {
    "dotnet_interactive": {
     "language": "csharp"
    },
    "polyglot_notebook": {
     "kernelName": "csharp"
    }
   },
   "outputs": [],
   "source": [
    "HashSet<int> num = new() {1, 2, 3, 1, 1};\n",
    "num"
   ]
  },
  {
   "cell_type": "code",
   "execution_count": 11,
   "metadata": {
    "dotnet_interactive": {
     "language": "csharp"
    },
    "polyglot_notebook": {
     "kernelName": "csharp"
    }
   },
   "outputs": [],
   "source": [
    "HashSet<int> num = new() {1, 2, 3, 1, 1};\n",
    "num.Add(3);\n",
    "num"
   ]
  },
  {
   "cell_type": "code",
   "execution_count": 12,
   "metadata": {
    "dotnet_interactive": {
     "language": "csharp"
    },
    "polyglot_notebook": {
     "kernelName": "csharp"
    }
   },
   "outputs": [],
   "source": [
    "HashSet<int> a = new() {1, 2, 3, 1, 1};\n",
    "HashSet<int> b = new() {2, 3, 1, 1};\n",
    "//Пересечение\n",
    "a.IntersectWith(b);\n",
    "a\n"
   ]
  },
  {
   "cell_type": "code",
   "execution_count": 13,
   "metadata": {
    "dotnet_interactive": {
     "language": "csharp"
    },
    "polyglot_notebook": {
     "kernelName": "csharp"
    }
   },
   "outputs": [],
   "source": [
    "HashSet<int> a = new() {1, 2, 3, 1, 1};\n",
    "HashSet<int> b = new() {2, 3, 1, 1};\n",
    "\n",
    "//Объединение\n",
    "a.UnionWith(b);\n",
    "a"
   ]
  },
  {
   "cell_type": "code",
   "execution_count": 14,
   "metadata": {
    "dotnet_interactive": {
     "language": "csharp"
    },
    "polyglot_notebook": {
     "kernelName": "csharp"
    }
   },
   "outputs": [],
   "source": [
    "HashSet<int> a = new() {1, 2, 3, 1, 1};\n",
    "HashSet<int> b = new() {2, 3, 1, 1};\n",
    "\n",
    "//Разница\n",
    "a.ExceptWith(b);\n",
    "a"
   ]
  },
  {
   "cell_type": "code",
   "execution_count": 15,
   "metadata": {
    "dotnet_interactive": {
     "language": "csharp"
    },
    "polyglot_notebook": {
     "kernelName": "csharp"
    }
   },
   "outputs": [],
   "source": [
    "HashSet<int> a = new() {1, 2, 3, 1, 1};\n",
    "HashSet<int> b = new() {2, 3, 1, 1};\n",
    "\n",
    "//Симметричная Разница\n",
    "a.SymmetricExceptWith(b);\n",
    "a"
   ]
  }
 ],
 "metadata": {
  "kernelspec": {
   "display_name": ".NET (C#)",
   "language": "C#",
   "name": ".net-csharp"
  },
  "polyglot_notebook": {
   "kernelInfo": {
    "defaultKernelName": "csharp",
    "items": [
     {
      "aliases": [],
      "languageName": "csharp",
      "name": "csharp"
     }
    ]
   }
  }
 },
 "nbformat": 4,
 "nbformat_minor": 2
}
