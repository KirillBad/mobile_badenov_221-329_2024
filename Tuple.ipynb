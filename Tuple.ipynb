{
 "cells": [
  {
   "cell_type": "code",
   "execution_count": 2,
   "metadata": {
    "dotnet_interactive": {
     "language": "csharp"
    },
    "polyglot_notebook": {
     "kernelName": "csharp"
    }
   },
   "outputs": [],
   "source": [
    "var x1 = (2, 4, \"hello\");\n",
    "(int, int, string) x11 = (2, 4, \"hello\");\n",
    "Console.WriteLine(x1.Item1);\n"
   ]
  },
  {
   "cell_type": "code",
   "execution_count": 3,
   "metadata": {
    "dotnet_interactive": {
     "language": "csharp"
    },
    "polyglot_notebook": {
     "kernelName": "csharp"
    }
   },
   "outputs": [],
   "source": [
    "// Названия полей у кортежа\n",
    "(int min, int max) x2 = (2, 4);\n",
    "Console.WriteLine(x2.min);\n",
    "Console.WriteLine(x2.max);\n"
   ]
  },
  {
   "cell_type": "code",
   "execution_count": 4,
   "metadata": {
    "dotnet_interactive": {
     "language": "csharp"
    },
    "polyglot_notebook": {
     "kernelName": "csharp"
    }
   },
   "outputs": [],
   "source": [
    "//Названия через инициализацию\n",
    "var x3 = (min: 2, max: 4);\n",
    "Console.WriteLine(x2.min);\n",
    "Console.WriteLine(x2.max);\n"
   ]
  },
  {
   "cell_type": "code",
   "execution_count": 5,
   "metadata": {
    "dotnet_interactive": {
     "language": "csharp"
    },
    "polyglot_notebook": {
     "kernelName": "csharp"
    }
   },
   "outputs": [],
   "source": [
    "// Распаковка\n",
    "var (min, max, name) = (2, 4, \"hello\");\n",
    "Console.WriteLine(min);\n",
    "Console.WriteLine(max);\n",
    "Console.WriteLine(name);"
   ]
  },
  {
   "cell_type": "code",
   "execution_count": 9,
   "metadata": {
    "dotnet_interactive": {
     "language": "csharp"
    },
    "polyglot_notebook": {
     "kernelName": "csharp"
    }
   },
   "outputs": [],
   "source": [
    "(int min, int max) GetX6(int v, (int a, int b) ab) => (ab.a + v, ab.b + v);\n",
    "\n",
    "var x6 = GetX6(10, (1, 2));\n",
    "Console.WriteLine(x6);"
   ]
  }
 ],
 "metadata": {
  "kernelspec": {
   "display_name": ".NET (C#)",
   "language": "C#",
   "name": ".net-csharp"
  },
  "polyglot_notebook": {
   "kernelInfo": {
    "defaultKernelName": "csharp",
    "items": [
     {
      "aliases": [],
      "languageName": "csharp",
      "name": "csharp"
     }
    ]
   }
  }
 },
 "nbformat": 4,
 "nbformat_minor": 2
}
