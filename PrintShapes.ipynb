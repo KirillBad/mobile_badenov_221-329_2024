{
 "cells": [
  {
   "cell_type": "code",
   "execution_count": 3,
   "metadata": {
    "dotnet_interactive": {
     "language": "csharp"
    },
    "polyglot_notebook": {
     "kernelName": "csharp"
    },
    "vscode": {
     "languageId": "polyglot-notebook"
    }
   },
   "outputs": [
    {
     "name": "stdout",
     "output_type": "stream",
     "text": [
      "0 *******\n",
      "1 *** ***\n",
      "2 **   **\n",
      "3 *     *\n",
      "2 **   **\n",
      "1 *** ***\n",
      "0 *******\n"
     ]
    }
   ],
   "source": [
    "static string[] GetRhomb(int height, char symbol, bool isFilled)\n",
    "{\n",
    "    height = height % 2 == 0 ? height + 1 : height;\n",
    "\n",
    "    int midHeight = height / 2;\n",
    "    string[] rhomb = new string[height];\n",
    "\n",
    "    for (int i = 0; i <= midHeight; i++)\n",
    "    {\n",
    "        int spacesBefore = midHeight - i;\n",
    "        int spacesInside = 2 * i - 1;\n",
    "\n",
    "        if (isFilled)\n",
    "        {\n",
    "            if (i == 0)\n",
    "            {\n",
    "                rhomb[i] = new string(' ', spacesBefore) + symbol; \n",
    "            }\n",
    "            else\n",
    "            {\n",
    "                rhomb[i] = new string(' ', spacesBefore) + symbol + new string(symbol, spacesInside) + symbol;\n",
    "            }\n",
    "        }\n",
    "        else\n",
    "        {\n",
    "            if (i == 0)\n",
    "            {\n",
    "                rhomb[i] = new string(symbol, spacesBefore) + symbol + new string(symbol, spacesBefore);\n",
    "            }\n",
    "            else\n",
    "                rhomb[i] = new string(symbol, spacesBefore) + symbol + new string(' ', spacesInside) + new string(symbol, spacesBefore) + symbol ;\n",
    "        }\n",
    "\n",
    "        rhomb[height - i - 1] = rhomb[i];\n",
    "    }\n",
    "\n",
    "    return rhomb;\n",
    "}\n",
    "\n",
    "static void PrintRhomb(string[] rhomb)\n",
    "{\n",
    "    int height = rhomb.Length;\n",
    "\n",
    "    for (int i = 0; i < height / 2; i++)\n",
    "    {\n",
    "        Console.WriteLine($\"{i} {rhomb[i]}\");\n",
    "    }\n",
    "\n",
    "    for (int i = height / 2; i >= 0; i--)\n",
    "    {\n",
    "        Console.WriteLine($\"{i} {rhomb[i]}\");\n",
    "    }\n",
    "}\n",
    "\n",
    "int height = 7;\n",
    "char symbol = '*';\n",
    "bool isFilled = false;\n",
    "string[] rhomb = GetRhomb(height, symbol, isFilled);\n",
    "PrintRhomb(rhomb);"
   ]
  },
  {
   "cell_type": "code",
   "execution_count": 4,
   "metadata": {
    "dotnet_interactive": {
     "language": "csharp"
    },
    "polyglot_notebook": {
     "kernelName": "csharp"
    },
    "vscode": {
     "languageId": "polyglot-notebook"
    }
   },
   "outputs": [
    {
     "name": "stdout",
     "output_type": "stream",
     "text": [
      "0        #\n",
      "1       ###\n",
      "2      #####\n",
      "3     #######\n",
      "4    #########\n",
      "5   ###########\n",
      "6  #############\n",
      "7 ###############\n",
      "6  #############\n",
      "5   ###########\n",
      "4    #########\n",
      "3     #######\n",
      "2      #####\n",
      "1       ###\n",
      "0        #\n"
     ]
    }
   ],
   "source": [
    "int height = 15;\n",
    "char symbol = '#';\n",
    "bool isFilled = true;\n",
    "string[] rhomb = GetRhomb(height, symbol, isFilled);\n",
    "PrintRhomb(rhomb);"
   ]
  },
  {
   "cell_type": "code",
   "execution_count": 5,
   "metadata": {
    "dotnet_interactive": {
     "language": "csharp"
    },
    "polyglot_notebook": {
     "kernelName": "csharp"
    },
    "vscode": {
     "languageId": "polyglot-notebook"
    }
   },
   "outputs": [
    {
     "name": "stdout",
     "output_type": "stream",
     "text": [
      "0 ???????\n",
      "1 ??? ???\n",
      "2 ??   ??\n",
      "3 ?     ?\n",
      "2 ??   ??\n",
      "1 ??? ???\n",
      "0 ???????\n"
     ]
    }
   ],
   "source": [
    "int height = 6;\n",
    "char symbol = '?';\n",
    "bool isFilled = false;\n",
    "string[] rhomb = GetRhomb(height, symbol, isFilled);\n",
    "PrintRhomb(rhomb);"
   ]
  },
  {
   "cell_type": "code",
   "execution_count": 6,
   "metadata": {
    "dotnet_interactive": {
     "language": "csharp"
    },
    "polyglot_notebook": {
     "kernelName": "csharp"
    },
    "vscode": {
     "languageId": "polyglot-notebook"
    }
   },
   "outputs": [
    {
     "name": "stdout",
     "output_type": "stream",
     "text": [
      "*********\n",
      " *******\n",
      "  *****\n",
      "   ***\n",
      "    *\n",
      "   ***\n",
      "  *****\n",
      " *******\n",
      "*********\n"
     ]
    }
   ],
   "source": [
    "static string[] GetSandClock(int height, char symbol, bool isFilled)\n",
    "{\n",
    "    height = height % 2 == 0 ? height + 1 : height;\n",
    "\n",
    "    int midHeight = height / 2;\n",
    "    string[] sandClock = new string[height];\n",
    "\n",
    "    for (int i = 0; i <= midHeight; i++)\n",
    "    {\n",
    "        int spacesBefore = i;\n",
    "        int spacesInside = height - 2 * (i + 1);\n",
    "\n",
    "        if (spacesInside < -1) spacesInside = 1;\n",
    "\n",
    "        if (isFilled)\n",
    "        {\n",
    "            if (i == midHeight)\n",
    "            {\n",
    "                sandClock[i] = new string(' ', spacesBefore) + new string(symbol, height - 2 * spacesBefore);\n",
    "            }\n",
    "            else\n",
    "            {\n",
    "                sandClock[i] = new string(' ', spacesBefore) + symbol + new string(symbol, spacesInside) + symbol;\n",
    "            }\n",
    "        }\n",
    "        else\n",
    "        {\n",
    "            if (i == 0 || i == height)\n",
    "            {\n",
    "                sandClock[i] = new string(' ', spacesBefore) + new string(symbol, height - 2 * spacesBefore);\n",
    "            }\n",
    "            else if (i == midHeight)\n",
    "            {\n",
    "                sandClock[i] = new string(' ', spacesBefore) + new string(symbol, height - 2 * spacesBefore);\n",
    "            }\n",
    "            else\n",
    "            {\n",
    "                sandClock[i] = new string(' ', spacesBefore) + symbol + new string(' ', spacesInside) + symbol;\n",
    "            }\n",
    "        }\n",
    "\n",
    "        sandClock[height - i - 1] = sandClock[i];\n",
    "    }\n",
    "\n",
    "    return sandClock;\n",
    "}\n",
    "\n",
    "static void PrintSandClock(string[] sandClock)\n",
    "{\n",
    "    foreach (string line in sandClock)\n",
    "    {\n",
    "        Console.WriteLine(line);\n",
    "    } \n",
    "}\n",
    "\n",
    "\n",
    "int height = 9;\n",
    "char symbol = '*';\n",
    "bool isFilled = true;\n",
    "string[] sandClock = GetSandClock(height, symbol, isFilled);\n",
    "PrintSandClock(sandClock);"
   ]
  },
  {
   "cell_type": "code",
   "execution_count": 7,
   "metadata": {
    "dotnet_interactive": {
     "language": "csharp"
    },
    "polyglot_notebook": {
     "kernelName": "csharp"
    },
    "vscode": {
     "languageId": "polyglot-notebook"
    }
   },
   "outputs": [
    {
     "name": "stdout",
     "output_type": "stream",
     "text": [
      "###############\n",
      " #           #\n",
      "  #         #\n",
      "   #       #\n",
      "    #     #\n",
      "     #   #\n",
      "      # #\n",
      "       #\n",
      "      # #\n",
      "     #   #\n",
      "    #     #\n",
      "   #       #\n",
      "  #         #\n",
      " #           #\n",
      "###############\n"
     ]
    }
   ],
   "source": [
    "int height = 15;\n",
    "char symbol = '#';\n",
    "bool isFilled = false;\n",
    "string[] sandClock = GetSandClock(height, symbol, isFilled);\n",
    "PrintSandClock(sandClock);"
   ]
  },
  {
   "cell_type": "code",
   "execution_count": 8,
   "metadata": {
    "dotnet_interactive": {
     "language": "csharp"
    },
    "polyglot_notebook": {
     "kernelName": "csharp"
    },
    "vscode": {
     "languageId": "polyglot-notebook"
    }
   },
   "outputs": [
    {
     "name": "stdout",
     "output_type": "stream",
     "text": [
      "555555555555555555555555555555555\n",
      "5                               5\n",
      "5 44444444444444444444444444444 5\n",
      "5 4                           4 5\n",
      "5 4 3333333333333333333333333 4 5\n",
      "5 4 3                       3 4 5\n",
      "5 4 3 222222222222222222222 3 4 5\n",
      "5 4 3 2                   2 3 4 5\n",
      "5 4 3 2 11111111111111111 2 3 4 5\n",
      "5 4 3 2 1               1 2 3 4 5\n",
      "5 4 3 2 11111111111111111 2 3 4 5\n",
      "5 4 3 2                   2 3 4 5\n",
      "5 4 3 222222222222222222222 3 4 5\n",
      "5 4 3                       3 4 5\n",
      "5 4 3333333333333333333333333 4 5\n",
      "5 4                           4 5\n",
      "5 44444444444444444444444444444 5\n",
      "5                               5\n",
      "555555555555555555555555555555555\n"
     ]
    }
   ],
   "source": [
    "static string[] GetRectangles(int numberOfRectangles, int startWidth, int startHeight, int spaceBetween, char[] symbols)\n",
    "{\n",
    "    int maxWidth = startWidth + 2 * (numberOfRectangles - 1) + 2 * spaceBetween * (numberOfRectangles - 1);\n",
    "    int maxHeight = startHeight + 2 * (numberOfRectangles - 1) + 2 * spaceBetween * (numberOfRectangles - 1);\n",
    "  \n",
    "    string[] rectangles = new string[maxHeight];\n",
    "    \n",
    "    char[,] canvas = new char[maxHeight, maxWidth];\n",
    "\n",
    "    for (int i = 0; i < maxHeight; i++)\n",
    "        for (int j = 0; j < maxWidth; j++)\n",
    "            canvas[i, j] = ' ';\n",
    "\n",
    "    for (int level = 0; level < numberOfRectangles; level++)\n",
    "    {\n",
    "        int currentWidth = startWidth + 2 * level + 2 * spaceBetween * level;\n",
    "        int currentHeight = startHeight + 2 * level + 2 * spaceBetween * level;\n",
    "\n",
    "        char symbol = symbols[level];\n",
    "\n",
    "        int startX = (maxWidth - currentWidth) / 2;\n",
    "        int startY = (maxHeight - currentHeight) / 2;\n",
    "\n",
    "        for (int i = startX; i < startX + currentWidth; i++)\n",
    "        {\n",
    "            canvas[startY, i] = symbol;\n",
    "            canvas[startY + currentHeight - 1, i] = symbol;\n",
    "        }\n",
    "\n",
    "        for (int i = startY; i < startY + currentHeight; i++)\n",
    "        {\n",
    "            canvas[i, startX] = symbol;\n",
    "            canvas[i, startX + currentWidth - 1] = symbol;\n",
    "        }\n",
    "    }\n",
    "\n",
    "    for (int i = 0; i < maxHeight; i++)\n",
    "    {\n",
    "        string line = \"\";\n",
    "        for (int j = 0; j < maxWidth; j++)\n",
    "        {\n",
    "            line += canvas[i, j];\n",
    "        }\n",
    "        rectangles[i] = line;\n",
    "    }\n",
    "\n",
    "    return rectangles;\n",
    "}\n",
    "\n",
    "static void PrintRectangles(string[] rectangles)\n",
    "{\n",
    "    foreach (var line in rectangles)\n",
    "    {\n",
    "        Console.WriteLine(line);\n",
    "    }\n",
    "}\n",
    "\n",
    "\n",
    "int num = 5;\n",
    "int space = 1;\n",
    "int width = 17;\n",
    "int height = 3;\n",
    "char[] symbols = { '1', '2', '3', '4', '5' };\n",
    "string[] rectangles = GetRectangles(num, width, height, space, symbols);\n",
    "PrintRectangles(rectangles);"
   ]
  },
  {
   "cell_type": "code",
   "execution_count": 9,
   "metadata": {
    "dotnet_interactive": {
     "language": "csharp"
    },
    "polyglot_notebook": {
     "kernelName": "csharp"
    },
    "vscode": {
     "languageId": "polyglot-notebook"
    }
   },
   "outputs": [
    {
     "name": "stdout",
     "output_type": "stream",
     "text": [
      "222222222222222222222222222222222\n",
      "2                               2\n",
      "2                               2\n",
      "2  111111111111111111111111111  2\n",
      "2  1                         1  2\n",
      "2  1                         1  2\n",
      "2  1  000000000000000000000  1  2\n",
      "2  1  000000000000000000000  1  2\n",
      "2  1                         1  2\n",
      "2  1                         1  2\n",
      "2  111111111111111111111111111  2\n",
      "2                               2\n",
      "2                               2\n",
      "222222222222222222222222222222222\n"
     ]
    }
   ],
   "source": [
    "int num = 3;\n",
    "int space = 2;\n",
    "int width = 21;\n",
    "int height = 2;\n",
    "char[] symbols = { '0', '1', '2' };\n",
    "string[] rectangles = GetRectangles(num, width, height, space, symbols);\n",
    "PrintRectangles(rectangles);"
   ]
  },
  {
   "cell_type": "code",
   "execution_count": 10,
   "metadata": {
    "dotnet_interactive": {
     "language": "csharp"
    },
    "polyglot_notebook": {
     "kernelName": "csharp"
    },
    "vscode": {
     "languageId": "polyglot-notebook"
    }
   },
   "outputs": [
    {
     "name": "stdout",
     "output_type": "stream",
     "text": [
      "@@@@@@@@@@@@@@@\n",
      "@             @\n",
      "@ *********** @\n",
      "@ *         * @\n",
      "@ * ??????? * @\n",
      "@ * ?     ? * @\n",
      "@ * ? ### ? * @\n",
      "@ * ? # # ? * @\n",
      "@ * ? # # ? * @\n",
      "@ * ? # # ? * @\n",
      "@ * ? # # ? * @\n",
      "@ * ? # # ? * @\n",
      "@ * ? # # ? * @\n",
      "@ * ? # # ? * @\n",
      "@ * ? # # ? * @\n",
      "@ * ? # # ? * @\n",
      "@ * ? # # ? * @\n",
      "@ * ? # # ? * @\n",
      "@ * ? # # ? * @\n",
      "@ * ? # # ? * @\n",
      "@ * ? ### ? * @\n",
      "@ * ?     ? * @\n",
      "@ * ??????? * @\n",
      "@ *         * @\n",
      "@ *********** @\n",
      "@             @\n",
      "@@@@@@@@@@@@@@@\n"
     ]
    }
   ],
   "source": [
    "int num = 4;\n",
    "int space = 1;\n",
    "int width = 3;\n",
    "int height = 15;\n",
    "char[] symbols = { '#', '?', '*', '@' };\n",
    "string[] rectangles = GetRectangles(num, width, height, space, symbols);\n",
    "PrintRectangles(rectangles);"
   ]
  }
 ],
 "metadata": {
  "kernelspec": {
   "display_name": ".NET (C#)",
   "language": "C#",
   "name": ".net-csharp"
  },
  "language_info": {
   "name": "python"
  },
  "polyglot_notebook": {
   "kernelInfo": {
    "defaultKernelName": "csharp",
    "items": [
     {
      "aliases": [],
      "name": "csharp"
     }
    ]
   }
  }
 },
 "nbformat": 4,
 "nbformat_minor": 2
}
