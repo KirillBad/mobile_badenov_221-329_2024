{
 "cells": [
  {
   "cell_type": "markdown",
   "metadata": {},
   "source": [
    "# Дата и время"
   ]
  },
  {
   "cell_type": "code",
   "execution_count": 3,
   "metadata": {
    "dotnet_interactive": {
     "language": "csharp"
    },
    "polyglot_notebook": {
     "kernelName": "csharp"
    },
    "vscode": {
     "languageId": "polyglot-notebook"
    }
   },
   "outputs": [
    {
     "name": "stdout",
     "output_type": "stream",
     "text": [
      "10.10.2024 12:44:49\n",
      "10.10.2024 09:44:49\n"
     ]
    }
   ],
   "source": [
    "Console.WriteLine(DateTime.Now);\n",
    "Console.WriteLine(DateTime.UtcNow);"
   ]
  },
  {
   "cell_type": "code",
   "execution_count": 4,
   "metadata": {
    "dotnet_interactive": {
     "language": "csharp"
    },
    "polyglot_notebook": {
     "kernelName": "csharp"
    },
    "vscode": {
     "languageId": "polyglot-notebook"
    }
   },
   "outputs": [
    {
     "name": "stdout",
     "output_type": "stream",
     "text": [
      "01.01.0001 00:00:00\n",
      "31.12.9999 23:59:59\n",
      "01.01.1970 00:00:00\n"
     ]
    }
   ],
   "source": [
    "Console.WriteLine(DateTime.MinValue);\n",
    "Console.WriteLine(DateTime.MaxValue);\n",
    "Console.WriteLine(DateTime.UnixEpoch);"
   ]
  },
  {
   "cell_type": "code",
   "execution_count": 1,
   "metadata": {
    "dotnet_interactive": {
     "language": "csharp"
    },
    "polyglot_notebook": {
     "kernelName": "csharp"
    },
    "vscode": {
     "languageId": "polyglot-notebook"
    }
   },
   "outputs": [
    {
     "name": "stdout",
     "output_type": "stream",
     "text": [
      "10.10.2024 12:48:22\n",
      "10.10.2024 00:00:00\n",
      "10\n",
      "284\n",
      "4\n"
     ]
    }
   ],
   "source": [
    "Console.WriteLine(DateTime.Now);\n",
    "Console.WriteLine(DateTime.Now.Date);\n",
    "Console.WriteLine(DateTime.Now.Date.Day);\n",
    "Console.WriteLine(DateTime.Now.Date.DayOfYear);\n",
    "Console.WriteLine(DateTime.Now.Date.DayOfWeek.ToString(\"D\"));"
   ]
  },
  {
   "cell_type": "code",
   "execution_count": 4,
   "metadata": {
    "vscode": {
     "languageId": "polyglot-notebook"
    }
   },
   "outputs": [
    {
     "name": "stdout",
     "output_type": "stream",
     "text": [
      "12:48:59.7821460\n",
      "12\n",
      "12\n"
     ]
    }
   ],
   "source": [
    "Console.WriteLine(DateTime.Now.TimeOfDay);\n",
    "Console.WriteLine(DateTime.Now.TimeOfDay.Hours);\n",
    "Console.WriteLine(DateTime.Now.Hour);"
   ]
  },
  {
   "cell_type": "code",
   "execution_count": 13,
   "metadata": {
    "vscode": {
     "languageId": "polyglot-notebook"
    }
   },
   "outputs": [
    {
     "name": "stdout",
     "output_type": "stream",
     "text": [
      "10.10.2024 12:55:09\n",
      "2024\n",
      "2024.10.10\n",
      "24-10-10\n",
      "10 окт. 2024\n",
      "10 октября 2024\n",
      "12:55\n",
      "12:55:09.116 +03:00\n"
     ]
    }
   ],
   "source": [
    "var dt = DateTime.Now;\n",
    "// Дата\n",
    "Console.WriteLine($\"{dt}\");\n",
    "Console.WriteLine($\"{dt:yyyy}\");\n",
    "Console.WriteLine($\"{dt:yyyy.MM.dd}\");\n",
    "Console.WriteLine($\"{dt:yy-MM-dd}\");\n",
    "Console.WriteLine($\"{dt:dd MMM yyyy}\");\n",
    "Console.WriteLine($\"{dt:dd MMMM yyyy}\");\n",
    "// Время\n",
    "Console.WriteLine($\"{dt:HH:mm}\");\n",
    "Console.WriteLine($\"{dt:HH:mm:ss.fff K}\");"
   ]
  },
  {
   "cell_type": "code",
   "execution_count": 17,
   "metadata": {
    "vscode": {
     "languageId": "polyglot-notebook"
    }
   },
   "outputs": [
    {
     "name": "stdout",
     "output_type": "stream",
     "text": [
      "09.05.1945\n"
     ]
    }
   ],
   "source": [
    "//var dt = new DateOnly(1945, 5, 9);\n",
    "var dt = new DateOnly(year:1945, month:5, day:9);\n",
    "Console.WriteLine(dt);"
   ]
  },
  {
   "cell_type": "code",
   "execution_count": 21,
   "metadata": {
    "vscode": {
     "languageId": "polyglot-notebook"
    }
   },
   "outputs": [
    {
     "name": "stdout",
     "output_type": "stream",
     "text": [
      "13:50\n",
      "14:30\n"
     ]
    }
   ],
   "source": [
    "var timeStart = new TimeOnly(hour:13, minute:50);\n",
    "Console.WriteLine(timeStart);\n",
    "\n",
    "\n",
    "var timeEnd = timeStart.AddMinutes(40);\n",
    "Console.WriteLine(timeEnd);"
   ]
  },
  {
   "cell_type": "code",
   "execution_count": 30,
   "metadata": {
    "vscode": {
     "languageId": "polyglot-notebook"
    }
   },
   "outputs": [
    {
     "name": "stdout",
     "output_type": "stream",
     "text": [
      "01:50:00\n",
      "1,8333333333333333\n",
      "110\n",
      "10.10.2024 13:04:49\n",
      "10.10.2024 14:54:49\n",
      "14.00:00:00\n",
      "24.10.2024 13:04:49\n"
     ]
    }
   ],
   "source": [
    "var dt = DateTime.Now;\n",
    "var t_1h_50m = new TimeSpan(hours:1, minutes:50, seconds:0);\n",
    "var t_2w = TimeSpan.FromDays(7 * 2);\n",
    "Console.WriteLine(t_1h_50m);\n",
    "Console.WriteLine(t_1h_50m.TotalHours);\n",
    "Console.WriteLine(t_1h_50m.TotalMinutes);\n",
    "Console.WriteLine(dt);\n",
    "Console.WriteLine(dt + t_1h_50m);\n",
    "\n",
    "Console.WriteLine(t_2w);\n",
    "Console.WriteLine(dt + t_2w);"
   ]
  }
 ],
 "metadata": {
  "kernelspec": {
   "display_name": ".NET (C#)",
   "language": "C#",
   "name": ".net-csharp"
  },
  "language_info": {
   "name": "python"
  },
  "polyglot_notebook": {
   "kernelInfo": {
    "defaultKernelName": "csharp",
    "items": [
     {
      "aliases": [],
      "name": "csharp"
     }
    ]
   }
  }
 },
 "nbformat": 4,
 "nbformat_minor": 2
}
