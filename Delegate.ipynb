{
 "cells": [
  {
   "cell_type": "markdown",
   "metadata": {},
   "source": [
    "# Делегат (delegate)"
   ]
  },
  {
   "cell_type": "markdown",
   "metadata": {},
   "source": [
    "## Пользовательский делегат"
   ]
  },
  {
   "cell_type": "code",
   "execution_count": 7,
   "metadata": {
    "dotnet_interactive": {
     "language": "csharp"
    },
    "polyglot_notebook": {
     "kernelName": "csharp"
    },
    "vscode": {
     "languageId": "polyglot-notebook"
    }
   },
   "outputs": [
    {
     "name": "stdout",
     "output_type": "stream",
     "text": [
      "How are you?\n"
     ]
    }
   ],
   "source": [
    "delegate void Work();\n",
    "\n",
    "void Hello() => Console.WriteLine(\"Hello!\");\n",
    "void HowAreYou() => Console.WriteLine(\"How are you?\");\n",
    "\n",
    "// Однотипный делегат\n",
    "Work work;\n",
    "work = Hello;\n",
    "work = HowAreYou;\n",
    "// work.Invoke()\n",
    "work()"
   ]
  },
  {
   "cell_type": "code",
   "execution_count": 8,
   "metadata": {
    "dotnet_interactive": {
     "language": "csharp"
    },
    "polyglot_notebook": {
     "kernelName": "csharp"
    },
    "vscode": {
     "languageId": "polyglot-notebook"
    }
   },
   "outputs": [
    {
     "name": "stdout",
     "output_type": "stream",
     "text": [
      "Hello!\n",
      "How are you?\n",
      "How are you?\n",
      "Hello!\n",
      "What?\n",
      "Fine\n"
     ]
    }
   ],
   "source": [
    "// Многотипные делегаты\n",
    "\n",
    "Work work;\n",
    "work = Hello;\n",
    "work += HowAreYou;\n",
    "work += Hello;\n",
    "work += HowAreYou;\n",
    "work -= Hello;\n",
    "work += Hello;\n",
    "\n",
    "// Используем анонимные методы\n",
    "work += delegate () { Console.WriteLine(\"What?\"); };\n",
    "// Используем лямбда-выражение\n",
    "work += () => Console.WriteLine(\"Fine\");\n",
    "\n",
    "work.Invoke()"
   ]
  },
  {
   "cell_type": "code",
   "execution_count": 9,
   "metadata": {
    "dotnet_interactive": {
     "language": "csharp"
    },
    "polyglot_notebook": {
     "kernelName": "csharp"
    },
    "vscode": {
     "languageId": "polyglot-notebook"
    }
   },
   "outputs": [
    {
     "name": "stdout",
     "output_type": "stream",
     "text": [
      "True\n"
     ]
    }
   ],
   "source": [
    "Work work;\n",
    "Console.WriteLine(work == null);\n",
    "\n",
    "// if (work != null)\n",
    "//     work.Invoke();\n",
    "\n",
    "work?.Invoke();"
   ]
  },
  {
   "cell_type": "code",
   "execution_count": 10,
   "metadata": {
    "dotnet_interactive": {
     "language": "csharp"
    },
    "polyglot_notebook": {
     "kernelName": "csharp"
    },
    "vscode": {
     "languageId": "polyglot-notebook"
    }
   },
   "outputs": [
    {
     "data": {
      "text/html": [
       "<div class=\"dni-plaintext\"><pre>-1</pre></div><style>\r\n",
       ".dni-code-hint {\r\n",
       "    font-style: italic;\r\n",
       "    overflow: hidden;\r\n",
       "    white-space: nowrap;\r\n",
       "}\r\n",
       ".dni-treeview {\r\n",
       "    white-space: nowrap;\r\n",
       "}\r\n",
       ".dni-treeview td {\r\n",
       "    vertical-align: top;\r\n",
       "    text-align: start;\r\n",
       "}\r\n",
       "details.dni-treeview {\r\n",
       "    padding-left: 1em;\r\n",
       "}\r\n",
       "table td {\r\n",
       "    text-align: start;\r\n",
       "}\r\n",
       "table tr { \r\n",
       "    vertical-align: top; \r\n",
       "    margin: 0em 0px;\r\n",
       "}\r\n",
       "table tr td pre \r\n",
       "{ \r\n",
       "    vertical-align: top !important; \r\n",
       "    margin: 0em 0px !important;\r\n",
       "} \r\n",
       "table th {\r\n",
       "    text-align: start;\r\n",
       "}\r\n",
       "</style>"
      ]
     },
     "metadata": {},
     "output_type": "display_data"
    }
   ],
   "source": [
    "delegate int MathOperation(int x, int y);\n",
    "\n",
    "int Add(int x, int y) => x + y;\n",
    "int Sub(int x, int y) => x - y;\n",
    "int Mul(int x, int y) => x * y;\n",
    "\n",
    "MathOperation calc;\n",
    "\n",
    "calc = Sub;\n",
    "\n",
    "calc(1, 2)"
   ]
  },
  {
   "cell_type": "code",
   "execution_count": 11,
   "metadata": {
    "dotnet_interactive": {
     "language": "csharp"
    },
    "polyglot_notebook": {
     "kernelName": "csharp"
    },
    "vscode": {
     "languageId": "polyglot-notebook"
    }
   },
   "outputs": [
    {
     "data": {
      "text/html": [
       "<div class=\"dni-plaintext\"><pre>3</pre></div><style>\r\n",
       ".dni-code-hint {\r\n",
       "    font-style: italic;\r\n",
       "    overflow: hidden;\r\n",
       "    white-space: nowrap;\r\n",
       "}\r\n",
       ".dni-treeview {\r\n",
       "    white-space: nowrap;\r\n",
       "}\r\n",
       ".dni-treeview td {\r\n",
       "    vertical-align: top;\r\n",
       "    text-align: start;\r\n",
       "}\r\n",
       "details.dni-treeview {\r\n",
       "    padding-left: 1em;\r\n",
       "}\r\n",
       "table td {\r\n",
       "    text-align: start;\r\n",
       "}\r\n",
       "table tr { \r\n",
       "    vertical-align: top; \r\n",
       "    margin: 0em 0px;\r\n",
       "}\r\n",
       "table tr td pre \r\n",
       "{ \r\n",
       "    vertical-align: top !important; \r\n",
       "    margin: 0em 0px !important;\r\n",
       "} \r\n",
       "table th {\r\n",
       "    text-align: start;\r\n",
       "}\r\n",
       "</style>"
      ]
     },
     "metadata": {},
     "output_type": "display_data"
    }
   ],
   "source": [
    "delegate int MathOperation(int x, int y);\n",
    "\n",
    "int Add(int x, int y) => x + y;\n",
    "int Sub(int x, int y) => x - y;\n",
    "int Mul(int x, int y) => x * y;\n",
    "\n",
    "Dictionary<string, MathOperation> calc = new()\n",
    "{\n",
    "    // [\"+\"] = Add,\n",
    "    [\"+\"] = (int x, int y) => x + y,\n",
    "    [\"-\"] = Sub,\n",
    "    [\"*\"] = Mul\n",
    "};\n",
    "\n",
    "calc[\"+\"](1, 2)"
   ]
  },
  {
   "cell_type": "code",
   "execution_count": 12,
   "metadata": {
    "dotnet_interactive": {
     "language": "csharp"
    },
    "polyglot_notebook": {
     "kernelName": "csharp"
    },
    "vscode": {
     "languageId": "polyglot-notebook"
    }
   },
   "outputs": [
    {
     "data": {
      "text/html": [
       "<div class=\"dni-plaintext\"><pre>3</pre></div><style>\r\n",
       ".dni-code-hint {\r\n",
       "    font-style: italic;\r\n",
       "    overflow: hidden;\r\n",
       "    white-space: nowrap;\r\n",
       "}\r\n",
       ".dni-treeview {\r\n",
       "    white-space: nowrap;\r\n",
       "}\r\n",
       ".dni-treeview td {\r\n",
       "    vertical-align: top;\r\n",
       "    text-align: start;\r\n",
       "}\r\n",
       "details.dni-treeview {\r\n",
       "    padding-left: 1em;\r\n",
       "}\r\n",
       "table td {\r\n",
       "    text-align: start;\r\n",
       "}\r\n",
       "table tr { \r\n",
       "    vertical-align: top; \r\n",
       "    margin: 0em 0px;\r\n",
       "}\r\n",
       "table tr td pre \r\n",
       "{ \r\n",
       "    vertical-align: top !important; \r\n",
       "    margin: 0em 0px !important;\r\n",
       "} \r\n",
       "table th {\r\n",
       "    text-align: start;\r\n",
       "}\r\n",
       "</style>"
      ]
     },
     "metadata": {},
     "output_type": "display_data"
    }
   ],
   "source": [
    "delegate int MathOperation(int x, int y);\n",
    "\n",
    "enum MathOperator { Add, Sub, Mul };\n",
    "\n",
    "Dictionary<MathOperator, MathOperation> calc = new()\n",
    "{\n",
    "    // [\"+\"] = Add,\n",
    "    [MathOperator.Add] = (int x, int y) => x + y,\n",
    "    [MathOperator.Sub] = (int x, int y) => x - y,\n",
    "    [MathOperator.Mul] = (int x, int y) => x * y,\n",
    "};\n",
    "\n",
    "MathOperator oper = MathOperator.Add;\n",
    "calc[oper](1, 2)"
   ]
  },
  {
   "cell_type": "markdown",
   "metadata": {
    "vscode": {
     "languageId": "polyglot-notebook"
    }
   },
   "source": [
    "## Встроенные (стандартные) делегаты\n",
    "\n",
    "- Action\n",
    "- Func\n",
    "- Predicate"
   ]
  },
  {
   "cell_type": "code",
   "execution_count": 21,
   "metadata": {
    "vscode": {
     "languageId": "polyglot-notebook"
    }
   },
   "outputs": [
    {
     "name": "stdout",
     "output_type": "stream",
     "text": [
      "Ivan\n",
      "5\n",
      "2 + 3 = 5\n"
     ]
    }
   ],
   "source": [
    "// Action\n",
    "\n",
    "Action printName = () => Console.WriteLine(\"Ivan\");\n",
    "printName();\n",
    "\n",
    "Action<int, int> printSum = (x, y) => Console.WriteLine(x + y);\n",
    "printSum += (x , y) => Console.WriteLine($\"{x} + {y} = {x + y}\");\n",
    "printSum(2, 3);"
   ]
  },
  {
   "cell_type": "code",
   "execution_count": 22,
   "metadata": {
    "vscode": {
     "languageId": "polyglot-notebook"
    }
   },
   "outputs": [
    {
     "name": "stdout",
     "output_type": "stream",
     "text": [
      "Ivan\n",
      "5\n",
      "2 + 3 = 5\n"
     ]
    }
   ],
   "source": [
    "// используем неявно типизорванные переменные\n",
    "\n",
    "var printName = () => Console.WriteLine(\"Ivan\");\n",
    "printName();\n",
    "\n",
    "var printSum = (int x, int y) => Console.WriteLine(x + y);\n",
    "printSum += (x , y) => Console.WriteLine($\"{x} + {y} = {x + y}\");\n",
    "printSum(2, 3);"
   ]
  },
  {
   "cell_type": "code",
   "execution_count": 24,
   "metadata": {
    "vscode": {
     "languageId": "polyglot-notebook"
    }
   },
   "outputs": [
    {
     "name": "stdout",
     "output_type": "stream",
     "text": [
      "Ivan\n",
      "5\n"
     ]
    }
   ],
   "source": [
    "// Func\n",
    "\n",
    "Func<string> getName = () => \"Ivan\";\n",
    "Console.WriteLine(getName());\n",
    "\n",
    "Func<int, int, int> getSum = (x, y) => x + y;\n",
    "Console.WriteLine(getSum(2, 3));"
   ]
  },
  {
   "cell_type": "code",
   "execution_count": 28,
   "metadata": {
    "vscode": {
     "languageId": "polyglot-notebook"
    }
   },
   "outputs": [
    {
     "name": "stdout",
     "output_type": "stream",
     "text": [
      "False\n",
      "False\n",
      "True\n"
     ]
    }
   ],
   "source": [
    "// Predicate\n",
    "\n",
    "Predicate<string> isCheckName = name => name?.Length > 1;\n",
    "Console.WriteLine(isCheckName(null));\n",
    "Console.WriteLine(isCheckName(\"1\"));\n",
    "Console.WriteLine(isCheckName(\"Oleg\"));"
   ]
  },
  {
   "cell_type": "code",
   "execution_count": 29,
   "metadata": {
    "vscode": {
     "languageId": "polyglot-notebook"
    }
   },
   "outputs": [
    {
     "name": "stdout",
     "output_type": "stream",
     "text": [
      "False\n",
      "False\n",
      "True\n"
     ]
    }
   ],
   "source": [
    "var isCheckName = (string name) => name?.Length > 1;\n",
    "Console.WriteLine(isCheckName(null));\n",
    "Console.WriteLine(isCheckName(\"1\"));\n",
    "Console.WriteLine(isCheckName(\"Oleg\"));"
   ]
  },
  {
   "cell_type": "code",
   "execution_count": 30,
   "metadata": {
    "vscode": {
     "languageId": "polyglot-notebook"
    }
   },
   "outputs": [
    {
     "name": "stdout",
     "output_type": "stream",
     "text": [
      "True\n",
      "False\n"
     ]
    }
   ],
   "source": [
    "// Число является четным\n",
    "\n",
    "Predicate<int> isEven = i => i % 2 == 0;\n",
    "Console.WriteLine(isEven(2));\n",
    "Console.WriteLine(isEven(3));"
   ]
  },
  {
   "cell_type": "code",
   "execution_count": 33,
   "metadata": {
    "vscode": {
     "languageId": "polyglot-notebook"
    }
   },
   "outputs": [
    {
     "name": "stdout",
     "output_type": "stream",
     "text": [
      "2, 4, 6, 8, 10\n",
      "2, 4, 6, 8, 10\n"
     ]
    }
   ],
   "source": [
    "List<int> numbers = Enumerable.Range(1, 10).ToList();\n",
    "\n",
    "Predicate<int> isEven = i => i % 2 == 0;\n",
    "List<int> numbersEven = numbers.FindAll(isEven);\n",
    "Console.WriteLine(String.Join(\", \", numbersEven));\n",
    "\n",
    "List<int> numbersEven2 = numbers.FindAll(i => i % 2 == 0);\n",
    "Console.WriteLine(String.Join(\", \", numbersEven2));"
   ]
  },
  {
   "cell_type": "code",
   "execution_count": 36,
   "metadata": {
    "vscode": {
     "languageId": "polyglot-notebook"
    }
   },
   "outputs": [
    {
     "name": "stdout",
     "output_type": "stream",
     "text": [
      "2 + 3 = 5\n",
      "2 - 3 = -1\n",
      "2 * 3 = 6\n"
     ]
    }
   ],
   "source": [
    "void Add(int x, int y) => Console.WriteLine($\"{x} + {y} = {x + y}\");\n",
    "void Sub(int x, int y) => Console.WriteLine($\"{x} - {y} = {x - y}\");\n",
    "\n",
    "void PrintCalc(int x, int y, Action<int, int> fn) => fn(x, y);\n",
    "\n",
    "PrintCalc(2, 3, Add);\n",
    "PrintCalc(2, 3, Sub);\n",
    "PrintCalc(2, 3, (x, y) => Console.WriteLine($\"{x} * {y} = {x * y}\"));"
   ]
  },
  {
   "cell_type": "code",
   "execution_count": null,
   "metadata": {
    "vscode": {
     "languageId": "polyglot-notebook"
    }
   },
   "outputs": [],
   "source": [
    "// ecть и другие делегаты"
   ]
  },
  {
   "cell_type": "markdown",
   "metadata": {},
   "source": [
    "# Событие (event)"
   ]
  },
  {
   "cell_type": "code",
   "execution_count": 15,
   "metadata": {
    "dotnet_interactive": {
     "language": "csharp"
    },
    "polyglot_notebook": {
     "kernelName": "csharp"
    },
    "vscode": {
     "languageId": "polyglot-notebook"
    }
   },
   "outputs": [
    {
     "name": "stdout",
     "output_type": "stream",
     "text": [
      "Новое значениe = Юра\n",
      "Новое значениe = Дима\n"
     ]
    }
   ],
   "source": [
    "// Класс с делегатом\n",
    "\n",
    "class Person\n",
    "{\n",
    "    public delegate void MyEvent(string newValue);\n",
    "    public MyEvent OnNameChanged;\n",
    "\n",
    "    private string name;\n",
    "    public string Name\n",
    "    {\n",
    "        get => name;\n",
    "        // set\n",
    "        // {\n",
    "        //     name = value;\n",
    "        //     OnNameChanged?.Invoke(Name);\n",
    "        // }\n",
    "        set => OnNameChanged?.Invoke(name = value);\n",
    "    }\n",
    "}\n",
    "\n",
    "var p = new Person();\n",
    "p.OnNameChanged += (s) => Console.WriteLine($\"Новое значениe = {s}\");\n",
    "p.Name = \"Юра\";\n",
    "p.Name = \"Дима\";"
   ]
  },
  {
   "cell_type": "code",
   "execution_count": 16,
   "metadata": {
    "dotnet_interactive": {
     "language": "csharp"
    },
    "polyglot_notebook": {
     "kernelName": "csharp"
    },
    "vscode": {
     "languageId": "polyglot-notebook"
    }
   },
   "outputs": [
    {
     "name": "stdout",
     "output_type": "stream",
     "text": [
      "Новое значениe = Юра\n",
      "Новое значениe = Дима\n"
     ]
    }
   ],
   "source": [
    "// Класс с событием\n",
    "// В событие разрешено += или -=\n",
    "\n",
    "class Person\n",
    "{\n",
    "    public delegate void MyEvent(string newValue);\n",
    "    public event MyEvent OnNameChanged;\n",
    "\n",
    "    private string name;\n",
    "    public string Name\n",
    "    {\n",
    "        get => name;\n",
    "        set => OnNameChanged?.Invoke(name = value);\n",
    "    }\n",
    "}\n",
    "\n",
    "var p = new Person();\n",
    "p.OnNameChanged += (s) => Console.WriteLine($\"Новое значениe = {s}\");\n",
    "p.Name = \"Юра\";\n",
    "p.Name = \"Дима\";\n",
    "\n",
    "// p.OnNameChanged(\"aaaa\"); // Плохо\n",
    "// p.OnNameChanged = (s) => Console.WriteLine($\"Новое значениe = {s}\"); // Плохо"
   ]
  },
  {
   "cell_type": "code",
   "execution_count": 37,
   "metadata": {
    "vscode": {
     "languageId": "polyglot-notebook"
    }
   },
   "outputs": [
    {
     "name": "stdout",
     "output_type": "stream",
     "text": [
      "Новое значениe = Юра\n",
      "Новое значениe = Дима\n"
     ]
    }
   ],
   "source": [
    "// Класс + стандартный делегат\n",
    "\n",
    "class Person\n",
    "{\n",
    "    private string name;\n",
    "    public string Name\n",
    "    {\n",
    "        get => name;\n",
    "        set => OnNameChanged?.Invoke(name = value);\n",
    "    }\n",
    "    public event Action<string> OnNameChanged;\n",
    "}\n",
    "\n",
    "var p = new Person();\n",
    "p.OnNameChanged += (s) => Console.WriteLine($\"Новое значениe = {s}\");\n",
    "p.Name = \"Юра\";\n",
    "p.Name = \"Дима\";"
   ]
  }
 ],
 "metadata": {
  "kernelspec": {
   "display_name": ".NET (C#)",
   "language": "C#",
   "name": ".net-csharp"
  },
  "language_info": {
   "name": "python"
  },
  "polyglot_notebook": {
   "kernelInfo": {
    "defaultKernelName": "csharp",
    "items": [
     {
      "aliases": [],
      "name": "csharp"
     }
    ]
   }
  }
 },
 "nbformat": 4,
 "nbformat_minor": 2
}
