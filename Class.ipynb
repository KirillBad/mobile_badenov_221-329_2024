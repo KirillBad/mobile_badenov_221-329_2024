{
 "cells": [
  {
   "cell_type": "markdown",
   "metadata": {},
   "source": [
    "# Класс (class)"
   ]
  },
  {
   "cell_type": "code",
   "execution_count": 8,
   "metadata": {
    "dotnet_interactive": {
     "language": "csharp"
    },
    "polyglot_notebook": {
     "kernelName": "csharp"
    },
    "vscode": {
     "languageId": "polyglot-notebook"
    }
   },
   "outputs": [
    {
     "name": "stdout",
     "output_type": "stream",
     "text": [
      "Привет, меня зовут Олег, мне 20 лет\n",
      "Привет, меня зовут Ваня, мне 18 лет\n"
     ]
    }
   ],
   "source": [
    "class Person\n",
    "{\n",
    "    // Поля\n",
    "    public string name;\n",
    "    public int age;\n",
    "    \n",
    "    // Метод\n",
    "    public string Speak() => $\"Привет, меня зовут {name}, мне {age} лет\";\n",
    "}\n",
    "\n",
    "var p = new Person();\n",
    "p.name = \"Олег\";\n",
    "p.age = 20;\n",
    "Console.WriteLine(p.Speak());\n",
    "\n",
    "var p2 = new Person() {\n",
    "    name = \"Ваня\",\n",
    "    age = 18\n",
    "};\n",
    "\n",
    "Console.WriteLine(p2.Speak());"
   ]
  },
  {
   "cell_type": "code",
   "execution_count": 12,
   "metadata": {
    "dotnet_interactive": {
     "language": "csharp"
    },
    "polyglot_notebook": {
     "kernelName": "csharp"
    },
    "vscode": {
     "languageId": "polyglot-notebook"
    }
   },
   "outputs": [
    {
     "name": "stdout",
     "output_type": "stream",
     "text": [
      "Привет, меня зовут Ваня, мне 19 лет\n",
      "Привет, меня зовут Безимени, мне 18 лет\n",
      "Привет, меня зовут Дима, мне 18 лет\n"
     ]
    }
   ],
   "source": [
    "// Обычный конструктор\n",
    "\n",
    "class Person\n",
    "{\n",
    "    public string name;\n",
    "    public int age;\n",
    "    \n",
    "    //Конструкторы\n",
    "    public Person() : this(\"Безимени\") {}\n",
    "    public Person(string name) : this(name, 18) {}\n",
    "    public Person(string name, int age)\n",
    "    {\n",
    "        this.name = name;\n",
    "        this.age = age;\n",
    "    }\n",
    "\n",
    "    public string Speak() => $\"Привет, меня зовут {name}, мне {age} лет\";\n",
    "}\n",
    "\n",
    "var p = new Person(\"Ваня\", 19);\n",
    "Console.WriteLine(p.Speak());\n",
    "\n",
    "var p2 = new Person();\n",
    "Console.WriteLine(p2.Speak());\n",
    "\n",
    "var p3 = new Person(\"Дима\");\n",
    "Console.WriteLine(p3.Speak());"
   ]
  },
  {
   "cell_type": "code",
   "execution_count": 14,
   "metadata": {
    "dotnet_interactive": {
     "language": "csharp"
    },
    "polyglot_notebook": {
     "kernelName": "csharp"
    },
    "vscode": {
     "languageId": "polyglot-notebook"
    }
   },
   "outputs": [],
   "source": [
    "// Свойства\n",
    "\n",
    "class Person\n",
    "{\n",
    "    private string name;\n",
    "    private int age;\n",
    "    \n",
    "    // Свойства\n",
    "    public string Name\n",
    "    {\n",
    "        get { return name; }\n",
    "        set { name = value; }\n",
    "    }\n",
    "    public int Age { get => age; set => age = value; }\n",
    "\n",
    "    public Person() : this(\"Безимени\") {}\n",
    "    public Person(string name) : this(name, 18) {}\n",
    "    public Person(string name, int age)\n",
    "    {\n",
    "        Name = name;\n",
    "        Age = age;\n",
    "    }\n",
    "\n",
    "    public string Speak() => $\"Привет, меня зовут {name}, мне {age} лет\";\n",
    "}\n",
    "\n",
    "var p = new Person(\"Ваня\", 19);\n",
    "p.Name = \"Петя\";\n",
    "p.Age = 25;\n"
   ]
  },
  {
   "cell_type": "code",
   "execution_count": 16,
   "metadata": {
    "dotnet_interactive": {
     "language": "csharp"
    },
    "polyglot_notebook": {
     "kernelName": "csharp"
    },
    "vscode": {
     "languageId": "polyglot-notebook"
    }
   },
   "outputs": [
    {
     "data": {
      "text/plain": [
       "Петя_25"
      ]
     },
     "metadata": {},
     "output_type": "display_data"
    }
   ],
   "source": [
    "// Автоматические свойства\n",
    "\n",
    "class Person\n",
    "{\n",
    "    // Свойства\n",
    "    public string Name { get; set; }\n",
    "    public int Age { get; set; }\n",
    "    public string Nickname { get => $\"{Name}_{Age}\"; }\n",
    "\n",
    "    public Person() : this(\"Безимени\") {}\n",
    "    public Person(string name) : this(name, 18) {}\n",
    "    public Person(string name, int age)\n",
    "    {\n",
    "        Name = name;\n",
    "        Age = age;\n",
    "    }\n",
    "\n",
    "    public string Speak() => \"Привет\";\n",
    "}\n",
    "\n",
    "var p = new Person(\"Ваня\", 19);\n",
    "p.Name = \"Петя\";\n",
    "p.Age = 25;\n",
    "p.Nickname\n"
   ]
  },
  {
   "cell_type": "code",
   "execution_count": 21,
   "metadata": {
    "dotnet_interactive": {
     "language": "csharp"
    },
    "polyglot_notebook": {
     "kernelName": "csharp"
    },
    "vscode": {
     "languageId": "polyglot-notebook"
    }
   },
   "outputs": [
    {
     "data": {
      "text/html": [
       "<details open=\"open\" class=\"dni-treeview\"><summary><span class=\"dni-code-hint\"><code>Submission#22+Person</code></span></summary><div><table><thead><tr></tr></thead><tbody><tr><td>Name</td><td><div class=\"dni-plaintext\"><pre>Света</pre></div></td></tr><tr><td>Age</td><td><div class=\"dni-plaintext\"><pre>0</pre></div></td></tr></tbody></table></div></details><style>\r\n",
       ".dni-code-hint {\r\n",
       "    font-style: italic;\r\n",
       "    overflow: hidden;\r\n",
       "    white-space: nowrap;\r\n",
       "}\r\n",
       ".dni-treeview {\r\n",
       "    white-space: nowrap;\r\n",
       "}\r\n",
       ".dni-treeview td {\r\n",
       "    vertical-align: top;\r\n",
       "    text-align: start;\r\n",
       "}\r\n",
       "details.dni-treeview {\r\n",
       "    padding-left: 1em;\r\n",
       "}\r\n",
       "table td {\r\n",
       "    text-align: start;\r\n",
       "}\r\n",
       "table tr { \r\n",
       "    vertical-align: top; \r\n",
       "    margin: 0em 0px;\r\n",
       "}\r\n",
       "table tr td pre \r\n",
       "{ \r\n",
       "    vertical-align: top !important; \r\n",
       "    margin: 0em 0px !important;\r\n",
       "} \r\n",
       "table th {\r\n",
       "    text-align: start;\r\n",
       "}\r\n",
       "</style>"
      ]
     },
     "metadata": {},
     "output_type": "display_data"
    }
   ],
   "source": [
    "// Оператор init в свойствах\n",
    "// init - МОЖНО установить в конструкторе или инициализаторе объекта\n",
    "\n",
    "class Person\n",
    "{\n",
    "    public string Name { get; init; } = \"Света\";\n",
    "    public int Age { get; set; }\n",
    "}\n",
    "\n",
    "var p = new Person();\n",
    "// p.Name = \"Петя\"; // Ошибка\n",
    "p"
   ]
  },
  {
   "cell_type": "code",
   "execution_count": 19,
   "metadata": {
    "dotnet_interactive": {
     "language": "csharp"
    },
    "polyglot_notebook": {
     "kernelName": "csharp"
    },
    "vscode": {
     "languageId": "polyglot-notebook"
    }
   },
   "outputs": [
    {
     "data": {
      "text/html": [
       "<details open=\"open\" class=\"dni-treeview\"><summary><span class=\"dni-code-hint\"><code>Submission#20+Person</code></span></summary><div><table><thead><tr></tr></thead><tbody><tr><td>Name</td><td><div class=\"dni-plaintext\"><pre>Ваня</pre></div></td></tr><tr><td>Age</td><td><div class=\"dni-plaintext\"><pre>18</pre></div></td></tr></tbody></table></div></details><style>\r\n",
       ".dni-code-hint {\r\n",
       "    font-style: italic;\r\n",
       "    overflow: hidden;\r\n",
       "    white-space: nowrap;\r\n",
       "}\r\n",
       ".dni-treeview {\r\n",
       "    white-space: nowrap;\r\n",
       "}\r\n",
       ".dni-treeview td {\r\n",
       "    vertical-align: top;\r\n",
       "    text-align: start;\r\n",
       "}\r\n",
       "details.dni-treeview {\r\n",
       "    padding-left: 1em;\r\n",
       "}\r\n",
       "table td {\r\n",
       "    text-align: start;\r\n",
       "}\r\n",
       "table tr { \r\n",
       "    vertical-align: top; \r\n",
       "    margin: 0em 0px;\r\n",
       "}\r\n",
       "table tr td pre \r\n",
       "{ \r\n",
       "    vertical-align: top !important; \r\n",
       "    margin: 0em 0px !important;\r\n",
       "} \r\n",
       "table th {\r\n",
       "    text-align: start;\r\n",
       "}\r\n",
       "</style>"
      ]
     },
     "metadata": {},
     "output_type": "display_data"
    }
   ],
   "source": [
    "// required - НУЖНО установить\n",
    "\n",
    "class Person\n",
    "{\n",
    "    public required string Name { get; set; }\n",
    "    public required int Age { get; set; }\n",
    "}\n",
    "\n",
    "var p = new Person() {Name=\"Ваня\", Age=18};\n",
    "p"
   ]
  },
  {
   "cell_type": "code",
   "execution_count": 24,
   "metadata": {
    "dotnet_interactive": {
     "language": "csharp"
    },
    "polyglot_notebook": {
     "kernelName": "csharp"
    },
    "vscode": {
     "languageId": "polyglot-notebook"
    }
   },
   "outputs": [
    {
     "name": "stdout",
     "output_type": "stream",
     "text": [
      "Submission#25+Person\n"
     ]
    }
   ],
   "source": [
    "// Первичный конструктор\n",
    "\n",
    "class Person(string name, int age)\n",
    "{\n",
    "    public string Name { get; set; } = name;\n",
    "    public int Age { get; set; } = age;\n",
    "}\n",
    "\n",
    "var p = new Person(\"Ваня\", 19);\n",
    "\n",
    "Console.WriteLine(p);"
   ]
  },
  {
   "cell_type": "code",
   "execution_count": 25,
   "metadata": {
    "dotnet_interactive": {
     "language": "csharp"
    },
    "polyglot_notebook": {
     "kernelName": "csharp"
    },
    "vscode": {
     "languageId": "polyglot-notebook"
    }
   },
   "outputs": [
    {
     "name": "stdout",
     "output_type": "stream",
     "text": [
      "Person: Ваня (19)\n"
     ]
    }
   ],
   "source": [
    "class Person(string name, int age)\n",
    "{\n",
    "    public string Name { get; set; } = name;\n",
    "    public int Age { get; set; } = age;\n",
    "\n",
    "    public override string ToString() => $\"Person: {Name} ({Age})\";\n",
    "}\n",
    "\n",
    "var p = new Person(\"Ваня\", 19);\n",
    "\n",
    "Console.WriteLine(p);"
   ]
  },
  {
   "cell_type": "code",
   "execution_count": 28,
   "metadata": {
    "dotnet_interactive": {
     "language": "csharp"
    },
    "polyglot_notebook": {
     "kernelName": "csharp"
    },
    "vscode": {
     "languageId": "polyglot-notebook"
    }
   },
   "outputs": [
    {
     "name": "stdout",
     "output_type": "stream",
     "text": [
      "Ваня\n",
      "19\n"
     ]
    }
   ],
   "source": [
    "// Деконструктор (не путать с деструктором)\n",
    "\n",
    "class Person(string name, int age)\n",
    "{\n",
    "    public string Name { get; set; } = name;\n",
    "    public int Age { get; set; } = age;\n",
    "\n",
    "    public override string ToString() => $\"Person: {Name} ({Age})\";\n",
    "\n",
    "    public void Deconstruct(out string name, out int age)\n",
    "    {\n",
    "        name = Name;\n",
    "        age = Age;\n",
    "    }\n",
    "}\n",
    "\n",
    "var p = new Person(\"Ваня\", 19);\n",
    "(string name, int age) = p;\n",
    "Console.WriteLine(name);\n",
    "Console.WriteLine(age);"
   ]
  },
  {
   "cell_type": "code",
   "execution_count": 29,
   "metadata": {
    "dotnet_interactive": {
     "language": "csharp"
    },
    "polyglot_notebook": {
     "kernelName": "csharp"
    },
    "vscode": {
     "languageId": "polyglot-notebook"
    }
   },
   "outputs": [
    {
     "name": "stdout",
     "output_type": "stream",
     "text": [
      "19\n"
     ]
    }
   ],
   "source": [
    "var p = new Person(name: \"Ваня\", age: 19);\n",
    "(_, int age) = p;\n",
    "Console.WriteLine(age);"
   ]
  },
  {
   "cell_type": "code",
   "execution_count": 31,
   "metadata": {
    "dotnet_interactive": {
     "language": "csharp"
    },
    "polyglot_notebook": {
     "kernelName": "csharp"
    },
    "vscode": {
     "languageId": "polyglot-notebook"
    }
   },
   "outputs": [
    {
     "data": {
      "text/html": [
       "<details open=\"open\" class=\"dni-treeview\"><summary><span class=\"dni-code-hint\"><code>Submission#32+Employee</code></span></summary><div><table><thead><tr></tr></thead><tbody><tr><td>Company</td><td><div class=\"dni-plaintext\"><pre>WB</pre></div></td></tr><tr><td>Name</td><td><div class=\"dni-plaintext\"><pre>Ваня</pre></div></td></tr></tbody></table></div></details><style>\r\n",
       ".dni-code-hint {\r\n",
       "    font-style: italic;\r\n",
       "    overflow: hidden;\r\n",
       "    white-space: nowrap;\r\n",
       "}\r\n",
       ".dni-treeview {\r\n",
       "    white-space: nowrap;\r\n",
       "}\r\n",
       ".dni-treeview td {\r\n",
       "    vertical-align: top;\r\n",
       "    text-align: start;\r\n",
       "}\r\n",
       "details.dni-treeview {\r\n",
       "    padding-left: 1em;\r\n",
       "}\r\n",
       "table td {\r\n",
       "    text-align: start;\r\n",
       "}\r\n",
       "table tr { \r\n",
       "    vertical-align: top; \r\n",
       "    margin: 0em 0px;\r\n",
       "}\r\n",
       "table tr td pre \r\n",
       "{ \r\n",
       "    vertical-align: top !important; \r\n",
       "    margin: 0em 0px !important;\r\n",
       "} \r\n",
       "table th {\r\n",
       "    text-align: start;\r\n",
       "}\r\n",
       "</style>"
      ]
     },
     "metadata": {},
     "output_type": "display_data"
    }
   ],
   "source": [
    "// Наследование\n",
    "\n",
    "class Person\n",
    "{\n",
    "    public string Name { get; set; }\n",
    "}\n",
    "\n",
    "class Employee : Person\n",
    "{\n",
    "    public string Company { get; set; }\n",
    "}\n",
    "\n",
    "var e = new Employee() {Name=\"Ваня\", Company=\"WB\"};\n",
    "e"
   ]
  },
  {
   "cell_type": "code",
   "execution_count": 32,
   "metadata": {
    "dotnet_interactive": {
     "language": "csharp"
    },
    "polyglot_notebook": {
     "kernelName": "csharp"
    },
    "vscode": {
     "languageId": "polyglot-notebook"
    }
   },
   "outputs": [
    {
     "data": {
      "text/html": [
       "<details open=\"open\" class=\"dni-treeview\"><summary><span class=\"dni-code-hint\"><code>Submission#33+Employee</code></span></summary><div><table><thead><tr></tr></thead><tbody><tr><td>Company</td><td><div class=\"dni-plaintext\"><pre>МТС</pre></div></td></tr><tr><td>Name</td><td><div class=\"dni-plaintext\"><pre>Ваня</pre></div></td></tr></tbody></table></div></details><style>\r\n",
       ".dni-code-hint {\r\n",
       "    font-style: italic;\r\n",
       "    overflow: hidden;\r\n",
       "    white-space: nowrap;\r\n",
       "}\r\n",
       ".dni-treeview {\r\n",
       "    white-space: nowrap;\r\n",
       "}\r\n",
       ".dni-treeview td {\r\n",
       "    vertical-align: top;\r\n",
       "    text-align: start;\r\n",
       "}\r\n",
       "details.dni-treeview {\r\n",
       "    padding-left: 1em;\r\n",
       "}\r\n",
       "table td {\r\n",
       "    text-align: start;\r\n",
       "}\r\n",
       "table tr { \r\n",
       "    vertical-align: top; \r\n",
       "    margin: 0em 0px;\r\n",
       "}\r\n",
       "table tr td pre \r\n",
       "{ \r\n",
       "    vertical-align: top !important; \r\n",
       "    margin: 0em 0px !important;\r\n",
       "} \r\n",
       "table th {\r\n",
       "    text-align: start;\r\n",
       "}\r\n",
       "</style>"
      ]
     },
     "metadata": {},
     "output_type": "display_data"
    }
   ],
   "source": [
    "// Наследование и первичный конструктор\n",
    "\n",
    "class Person(string name)\n",
    "{\n",
    "    public string Name { get; set; } = name;\n",
    "}\n",
    "\n",
    "class Employee(string name, string company) : Person(name)\n",
    "{\n",
    "    public string Company { get; set; } = company;\n",
    "}\n",
    "\n",
    "var e = new Employee(\"Ваня\", \"МТС\");\n",
    "e"
   ]
  },
  {
   "cell_type": "code",
   "execution_count": 34,
   "metadata": {
    "dotnet_interactive": {
     "language": "csharp"
    },
    "polyglot_notebook": {
     "kernelName": "csharp"
    },
    "vscode": {
     "languageId": "polyglot-notebook"
    }
   },
   "outputs": [
    {
     "name": "stdout",
     "output_type": "stream",
     "text": [
      "Ваня\n",
      "Ваня (МТС)\n"
     ]
    }
   ],
   "source": [
    "// Переопределение метода\n",
    "\n",
    "class Person(string name)\n",
    "{\n",
    "    public string Name { get; set; } = name;\n",
    "    public virtual void Print() => Console.WriteLine($\"{Name}\");\n",
    "}\n",
    "\n",
    "class Employee(string name, string company) : Person(name)\n",
    "{\n",
    "    public string Company { get; set; } = company;\n",
    "    public override void Print()\n",
    "    {\n",
    "        base.Print();\n",
    "        Console.WriteLine($\"{Name} ({Company})\");\n",
    "    }\n",
    "}\n",
    "\n",
    "var e = new Employee(\"Ваня\", \"МТС\");\n",
    "e.Print()"
   ]
  },
  {
   "cell_type": "code",
   "execution_count": 3,
   "metadata": {
    "vscode": {
     "languageId": "polyglot-notebook"
    }
   },
   "outputs": [
    {
     "name": "stdout",
     "output_type": "stream",
     "text": [
      "МТС\n"
     ]
    }
   ],
   "source": [
    "class Person\n",
    "{\n",
    "    public string Name { get; set; }\n",
    "    public Person(string name)\n",
    "    {\n",
    "        Name = name;\n",
    "    }\n",
    "}\n",
    "\n",
    "class Employee : Person\n",
    "{\n",
    "    public string Company { get; set; }\n",
    "    public Employee(string name, string company) : base(name)\n",
    "    {\n",
    "        Company = company;\n",
    "    }\n",
    "}\n",
    "\n",
    "var e = new Employee(\"Ваня\", \"МТС\");\n",
    "Console.WriteLine(e.Company)"
   ]
  },
  {
   "cell_type": "code",
   "execution_count": 6,
   "metadata": {
    "vscode": {
     "languageId": "polyglot-notebook"
    }
   },
   "outputs": [
    {
     "name": "stdout",
     "output_type": "stream",
     "text": [
      "18\n",
      "21\n",
      "20\n"
     ]
    }
   ],
   "source": [
    "// Статические поля + константы\n",
    "\n",
    "class Person\n",
    "{\n",
    "    public const int defaultAge = 20;\n",
    "    public static int minAge = 18;\n",
    "    public int Age { get; set; }\n",
    "    public static void PrintAge() => Console.WriteLine(minAge);\n",
    "}\n",
    "\n",
    "Console.WriteLine(Person.minAge);\n",
    "Person.minAge = 21;\n",
    "Person.PrintAge();\n",
    "Console.WriteLine(Person.defaultAge);"
   ]
  },
  {
   "cell_type": "code",
   "execution_count": null,
   "metadata": {
    "vscode": {
     "languageId": "polyglot-notebook"
    }
   },
   "outputs": [],
   "source": [
    "// Поля только для чтения\n",
    "\n",
    "class Person\n",
    "{\n",
    "    public readonly string name = \"Миша Кошляк\";\n",
    "\n",
    "}\n",
    "\n",
    "var p = new Person();\n",
    "// p.Name = \"aaa\" // нельзя"
   ]
  }
 ],
 "metadata": {
  "kernelspec": {
   "display_name": ".NET (C#)",
   "language": "C#",
   "name": ".net-csharp"
  },
  "language_info": {
   "name": "python"
  },
  "polyglot_notebook": {
   "kernelInfo": {
    "defaultKernelName": "csharp",
    "items": [
     {
      "aliases": [],
      "name": "csharp"
     }
    ]
   }
  }
 },
 "nbformat": 4,
 "nbformat_minor": 2
}
