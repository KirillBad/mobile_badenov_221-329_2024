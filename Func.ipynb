{
 "cells": [
  {
   "cell_type": "markdown",
   "metadata": {},
   "source": [
    "# Функции"
   ]
  },
  {
   "cell_type": "code",
   "execution_count": 2,
   "metadata": {
    "vscode": {
     "languageId": "polyglot-notebook"
    }
   },
   "outputs": [
    {
     "name": "stdout",
     "output_type": "stream",
     "text": [
      "stroka\n"
     ]
    }
   ],
   "source": [
    "void PrintString()\n",
    "{\n",
    "    Console.WriteLine(\"stroka\");\n",
    "}\n",
    "\n",
    "PrintString();"
   ]
  },
  {
   "cell_type": "code",
   "execution_count": 5,
   "metadata": {
    "vscode": {
     "languageId": "polyglot-notebook"
    }
   },
   "outputs": [
    {
     "name": "stdout",
     "output_type": "stream",
     "text": [
      "3\n",
      "3\n",
      "3\n",
      "3\n"
     ]
    }
   ],
   "source": [
    "int sum1(int a, int b)\n",
    "{\n",
    "    return a + b;\n",
    "}\n",
    "\n",
    "int sum2(int a, int b) => a + b;\n",
    "\n",
    "// Позиционные аргументы\n",
    "Console.WriteLine(sum1(1, 2));\n",
    "Console.WriteLine(sum2(1, 2));\n",
    "\n",
    "// Именованные аргументы\n",
    "Console.WriteLine(sum1(1, b:2));\n",
    "Console.WriteLine(sum2(b:1, a:2));"
   ]
  },
  {
   "cell_type": "code",
   "execution_count": 9,
   "metadata": {
    "vscode": {
     "languageId": "polyglot-notebook"
    }
   },
   "outputs": [
    {
     "name": "stdout",
     "output_type": "stream",
     "text": [
      "31\n",
      "221\n",
      "231\n"
     ]
    }
   ],
   "source": [
    "int sum3(int a, int b = 20, int c = 10) => a + b + c;\n",
    "\n",
    "Console.WriteLine(sum3(1));\n",
    "Console.WriteLine(sum3(1, c:200));\n",
    "Console.WriteLine(sum3(1, c:200, b:30));"
   ]
  },
  {
   "cell_type": "code",
   "execution_count": 12,
   "metadata": {
    "vscode": {
     "languageId": "polyglot-notebook"
    }
   },
   "outputs": [
    {
     "name": "stdout",
     "output_type": "stream",
     "text": [
      "1 | 2 | 3 | 4 | 5\n",
      "1 | 2 | 3 | 4 | 5\n"
     ]
    }
   ],
   "source": [
    "void PrintArray(int[] a){\n",
    "    Console.WriteLine(String.Join(\" | \", a));\n",
    "}\n",
    "\n",
    "PrintArray(new int[] {1, 2, 3, 4, 5});\n",
    "PrintArray([1, 2, 3, 4, 5]);\n",
    "// PrintArray(1, 2, 3, 4, 5); // нельзя"
   ]
  },
  {
   "cell_type": "code",
   "execution_count": 14,
   "metadata": {
    "vscode": {
     "languageId": "polyglot-notebook"
    }
   },
   "outputs": [
    {
     "name": "stdout",
     "output_type": "stream",
     "text": [
      "1 | 2 | 3 | 4 | 5\n",
      "1 | 2 | 3 | 4 | 5\n",
      "1 | 2 | 3 | 4 | 5\n"
     ]
    }
   ],
   "source": [
    "void PrintArray2(params int[] a){\n",
    "    Console.WriteLine(String.Join(\" | \", a));\n",
    "}\n",
    "\n",
    "PrintArray2(new int[] {1, 2, 3, 4, 5});\n",
    "PrintArray2([1, 2, 3, 4, 5]);\n",
    "PrintArray2(1, 2, 3, 4, 5);"
   ]
  },
  {
   "cell_type": "code",
   "execution_count": 16,
   "metadata": {
    "vscode": {
     "languageId": "polyglot-notebook"
    }
   },
   "outputs": [
    {
     "name": "stdout",
     "output_type": "stream",
     "text": [
      "1 | #### | 3,14 | y\n"
     ]
    }
   ],
   "source": [
    "void PrintArray3(params object[] a){\n",
    "    Console.WriteLine(String.Join(\" | \", a));\n",
    "}\n",
    "\n",
    "PrintArray3(1, \"####\", 3.14, 'y');"
   ]
  },
  {
   "cell_type": "code",
   "execution_count": 19,
   "metadata": {
    "vscode": {
     "languageId": "polyglot-notebook"
    }
   },
   "outputs": [
    {
     "name": "stdout",
     "output_type": "stream",
     "text": [
      "3\n",
      "Hello World\n",
      "10\n"
     ]
    }
   ],
   "source": [
    "// Перегрузка методов\n",
    "int Add(int a, int b) => a + b;\n",
    "string Add(string a, string b) => a + b;\n",
    "\n",
    "int Add(params int[] numbers)\n",
    "{\n",
    "    int sum = 0;\n",
    "    foreach (var i in numbers)\n",
    "        sum += i;\n",
    "    return sum;\n",
    "}\n",
    "\n",
    "Console.WriteLine(Add(1, 2));\n",
    "Console.WriteLine(Add(\"Hello\", \" World\"));\n",
    "Console.WriteLine(Add(1, 2, 3, 4));"
   ]
  },
  {
   "cell_type": "code",
   "execution_count": 26,
   "metadata": {
    "vscode": {
     "languageId": "polyglot-notebook"
    }
   },
   "outputs": [
    {
     "name": "stdout",
     "output_type": "stream",
     "text": [
      "String\n",
      "<>String<>\n",
      "STRING\n"
     ]
    }
   ],
   "source": [
    "// Методы расширения\n",
    "\n",
    "static void Print(this string src)\n",
    "{\n",
    "    Console.WriteLine($\"{src}\");\n",
    "}\n",
    "\n",
    "static void Print(this string src, string border)\n",
    "{\n",
    "    Console.WriteLine($\"{border}{src}{border}\");\n",
    "}\n",
    "\n",
    "static string MyUpper(this string src)\n",
    "{\n",
    "    return src.ToUpper();\n",
    "}\n",
    "\n",
    "var st = \"String\";\n",
    "st.Print();\n",
    "st.Print(\"<>\");\n",
    "Console.WriteLine(st.MyUpper());"
   ]
  }
 ],
 "metadata": {
  "kernelspec": {
   "display_name": ".NET (C#)",
   "language": "C#",
   "name": ".net-csharp"
  },
  "language_info": {
   "name": "python"
  },
  "polyglot_notebook": {
   "kernelInfo": {
    "defaultKernelName": "csharp",
    "items": [
     {
      "aliases": [],
      "name": "csharp"
     }
    ]
   }
  }
 },
 "nbformat": 4,
 "nbformat_minor": 2
}
